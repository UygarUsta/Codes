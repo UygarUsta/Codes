{
  "nbformat": 4,
  "nbformat_minor": 0,
  "metadata": {
    "colab": {
      "provenance": [],
      "gpuType": "T4",
      "authorship_tag": "ABX9TyORJElMZlmTZ/4gGvKyvzpE",
      "include_colab_link": true
    },
    "kernelspec": {
      "name": "python3",
      "display_name": "Python 3"
    },
    "language_info": {
      "name": "python"
    },
    "accelerator": "GPU"
  },
  "cells": [
    {
      "cell_type": "markdown",
      "metadata": {
        "id": "view-in-github",
        "colab_type": "text"
      },
      "source": [
        "<a href=\"https://colab.research.google.com/github/UygarUsta/computer-vision-notebooks/blob/main/Keras_Core_Torch.ipynb\" target=\"_parent\"><img src=\"https://colab.research.google.com/assets/colab-badge.svg\" alt=\"Open In Colab\"/></a>"
      ]
    },
    {
      "cell_type": "code",
      "execution_count": 1,
      "metadata": {
        "colab": {
          "base_uri": "https://localhost:8080/"
        },
        "id": "hGid3kEO63ky",
        "outputId": "97c93138-a0c9-44a2-f605-ca5c8a9cc109"
      },
      "outputs": [
        {
          "output_type": "stream",
          "name": "stdout",
          "text": [
            "Cloning into 'keras-core'...\n",
            "remote: Enumerating objects: 9930, done.\u001b[K\n",
            "remote: Counting objects: 100% (2944/2944), done.\u001b[K\n",
            "remote: Compressing objects: 100% (839/839), done.\u001b[K\n",
            "remote: Total 9930 (delta 2342), reused 2549 (delta 2104), pack-reused 6986\u001b[K\n",
            "Receiving objects: 100% (9930/9930), 3.00 MiB | 3.36 MiB/s, done.\n",
            "Resolving deltas: 100% (7509/7509), done.\n"
          ]
        }
      ],
      "source": [
        "!git clone https://github.com/keras-team/keras-core.git"
      ]
    },
    {
      "cell_type": "code",
      "source": [
        "%cd keras-core"
      ],
      "metadata": {
        "colab": {
          "base_uri": "https://localhost:8080/"
        },
        "id": "r8-Ax9Vt7jES",
        "outputId": "91c622d1-b62b-4393-9351-813b4c8dcb6e"
      },
      "execution_count": 2,
      "outputs": [
        {
          "output_type": "stream",
          "name": "stdout",
          "text": [
            "/content/keras-core\n"
          ]
        }
      ]
    },
    {
      "cell_type": "code",
      "source": [
        "!pip install -r requirements.txt"
      ],
      "metadata": {
        "id": "03l704S77mPJ"
      },
      "execution_count": null,
      "outputs": []
    },
    {
      "cell_type": "code",
      "source": [
        "!python pip_build.py --install"
      ],
      "metadata": {
        "id": "ln_qccm67pU5"
      },
      "execution_count": null,
      "outputs": []
    },
    {
      "cell_type": "code",
      "source": [
        "import os\n",
        "\n",
        "# Set backend env to torch\n",
        "os.environ[\"KERAS_BACKEND\"] = \"torch\"\n",
        "\n",
        "import torch\n",
        "import torch.nn as nn\n",
        "import torch.optim as optim\n",
        "from keras_core import layers\n",
        "import keras_core\n",
        "import numpy as np"
      ],
      "metadata": {
        "colab": {
          "base_uri": "https://localhost:8080/"
        },
        "id": "6MRl4bq97x9J",
        "outputId": "70b03295-efdb-4e7b-9acc-9bef40ba8dd4"
      },
      "execution_count": 5,
      "outputs": [
        {
          "output_type": "stream",
          "name": "stdout",
          "text": [
            "Using PyTorch backend.\n"
          ]
        }
      ]
    },
    {
      "cell_type": "code",
      "source": [
        "# Model / data parameters\n",
        "num_classes = 10\n",
        "input_shape = (28, 28, 1)\n",
        "learning_rate = 0.01\n",
        "batch_size = 64\n",
        "num_epochs = 1"
      ],
      "metadata": {
        "id": "p9eicUVm7-IY"
      },
      "execution_count": 6,
      "outputs": []
    },
    {
      "cell_type": "code",
      "source": [
        "# Load the data and split it between train and test sets\n",
        "(x_train, y_train), (x_test, y_test) = keras_core.datasets.mnist.load_data()\n",
        "\n",
        "# Scale images to the [0, 1] range\n",
        "x_train = x_train.astype(\"float32\") / 255\n",
        "x_test = x_test.astype(\"float32\") / 255\n",
        "# Make sure images have shape (28, 28, 1)\n",
        "x_train = np.expand_dims(x_train, -1)\n",
        "x_test = np.expand_dims(x_test, -1)\n",
        "print(\"x_train shape:\", x_train.shape)\n",
        "print(x_train.shape[0], \"train samples\")\n",
        "print(x_test.shape[0], \"test samples\")"
      ],
      "metadata": {
        "colab": {
          "base_uri": "https://localhost:8080/"
        },
        "id": "K973fWr_8BmY",
        "outputId": "1b4e480c-8db1-4f28-eca7-93bd52d40aa9"
      },
      "execution_count": 7,
      "outputs": [
        {
          "output_type": "stream",
          "name": "stdout",
          "text": [
            "Downloading data from https://storage.googleapis.com/tensorflow/tf-keras-datasets/mnist.npz\n",
            "\u001b[1m11490434/11490434\u001b[0m \u001b[32m━━━━━━━━━━━━━━━━━━━━\u001b[0m\u001b[37m\u001b[0m \u001b[1m2s\u001b[0m 0us/step\n",
            "x_train shape: (60000, 28, 28, 1)\n",
            "60000 train samples\n",
            "10000 test samples\n"
          ]
        }
      ]
    },
    {
      "cell_type": "code",
      "source": [
        "# Create the Keras model\n",
        "model = keras_core.Sequential(\n",
        "    [\n",
        "        layers.Input(shape=(28, 28, 1)),\n",
        "        layers.Conv2D(32, kernel_size=(3, 3), activation=\"relu\"),\n",
        "        layers.MaxPooling2D(pool_size=(2, 2)),\n",
        "        layers.Conv2D(64, kernel_size=(3, 3), activation=\"relu\"),\n",
        "        layers.MaxPooling2D(pool_size=(2, 2)),\n",
        "        layers.Flatten(),\n",
        "        layers.Dropout(0.5),\n",
        "        layers.Dense(num_classes),\n",
        "    ]\n",
        ")\n"
      ],
      "metadata": {
        "id": "l8Xn3Wyj8ErZ"
      },
      "execution_count": 8,
      "outputs": []
    },
    {
      "cell_type": "code",
      "source": [
        "optimizer = optim.Adam(model.parameters(), lr=learning_rate)\n",
        "\n",
        "# Instantiate the torch loss function\n",
        "loss_fn = nn.CrossEntropyLoss()\n",
        "\n",
        "\n",
        "def train(model, train_loader, num_epochs, optimizer, loss_fn):\n",
        "    for epoch in range(num_epochs):\n",
        "        running_loss = 0.0\n",
        "        for batch_idx, (inputs, targets) in enumerate(train_loader):\n",
        "            # Forward pass\n",
        "            inputs = inputs.cuda(non_blocking=True)\n",
        "            targets = targets.cuda(non_blocking=True)\n",
        "            outputs = model(inputs)\n",
        "            loss = loss_fn(outputs, targets)\n",
        "\n",
        "            # Backward and optimize\n",
        "            optimizer.zero_grad()\n",
        "            loss.backward()\n",
        "            optimizer.step()\n",
        "\n",
        "            running_loss += loss.item()\n",
        "\n",
        "            # Print loss statistics\n",
        "            if (batch_idx + 1) % 10 == 0:\n",
        "                print(\n",
        "                    f\"Epoch [{epoch+1}/{num_epochs}], \"\n",
        "                    f\"Batch [{batch_idx+1}/{len(train_loader)}], \"\n",
        "                    f\"Loss: {running_loss / 10}\"\n",
        "                )\n",
        "                running_loss = 0.0"
      ],
      "metadata": {
        "id": "d2TTK2Ee8HnJ"
      },
      "execution_count": 11,
      "outputs": []
    },
    {
      "cell_type": "code",
      "source": [
        "# Create a TensorDataset\n",
        "dataset = torch.utils.data.TensorDataset(\n",
        "    torch.from_numpy(x_train), torch.from_numpy(y_train)\n",
        ")\n",
        "\n",
        "# Create a DataLoader\n",
        "train_loader = torch.utils.data.DataLoader(\n",
        "    dataset, batch_size=batch_size, shuffle=False\n",
        ")\n",
        "\n",
        "train(model, train_loader, num_epochs, optimizer, loss_fn)\n"
      ],
      "metadata": {
        "colab": {
          "base_uri": "https://localhost:8080/"
        },
        "id": "DHFKq7m_8MTp",
        "outputId": "a49c7353-52dd-4d12-e870-f4ae44ed383a"
      },
      "execution_count": 12,
      "outputs": [
        {
          "output_type": "stream",
          "name": "stdout",
          "text": [
            "Epoch [1/1], Batch [10/938], Loss: 1.4372071981430055\n",
            "Epoch [1/1], Batch [20/938], Loss: 0.587936308979988\n",
            "Epoch [1/1], Batch [30/938], Loss: 0.26413131803274154\n",
            "Epoch [1/1], Batch [40/938], Loss: 0.23916680216789246\n",
            "Epoch [1/1], Batch [50/938], Loss: 0.2260119415819645\n",
            "Epoch [1/1], Batch [60/938], Loss: 0.21202343925833703\n",
            "Epoch [1/1], Batch [70/938], Loss: 0.21111297160387038\n",
            "Epoch [1/1], Batch [80/938], Loss: 0.15760304369032382\n",
            "Epoch [1/1], Batch [90/938], Loss: 0.14103009700775146\n",
            "Epoch [1/1], Batch [100/938], Loss: 0.11094441041350364\n",
            "Epoch [1/1], Batch [110/938], Loss: 0.1779641892760992\n",
            "Epoch [1/1], Batch [120/938], Loss: 0.1536353699862957\n",
            "Epoch [1/1], Batch [130/938], Loss: 0.16312939301133156\n",
            "Epoch [1/1], Batch [140/938], Loss: 0.2176670916378498\n",
            "Epoch [1/1], Batch [150/938], Loss: 0.16550753377377986\n",
            "Epoch [1/1], Batch [160/938], Loss: 0.14916107915341853\n",
            "Epoch [1/1], Batch [170/938], Loss: 0.1481677794829011\n",
            "Epoch [1/1], Batch [180/938], Loss: 0.10803943369537591\n",
            "Epoch [1/1], Batch [190/938], Loss: 0.15556372851133346\n",
            "Epoch [1/1], Batch [200/938], Loss: 0.15453636795282363\n",
            "Epoch [1/1], Batch [210/938], Loss: 0.11695673912763596\n",
            "Epoch [1/1], Batch [220/938], Loss: 0.11385567113757133\n",
            "Epoch [1/1], Batch [230/938], Loss: 0.10504999440163373\n",
            "Epoch [1/1], Batch [240/938], Loss: 0.09090621694922447\n",
            "Epoch [1/1], Batch [250/938], Loss: 0.16530547030270099\n",
            "Epoch [1/1], Batch [260/938], Loss: 0.08965449631214142\n",
            "Epoch [1/1], Batch [270/938], Loss: 0.11114229336380958\n",
            "Epoch [1/1], Batch [280/938], Loss: 0.10575851052999496\n",
            "Epoch [1/1], Batch [290/938], Loss: 0.10297366864979267\n",
            "Epoch [1/1], Batch [300/938], Loss: 0.06770824454724789\n",
            "Epoch [1/1], Batch [310/938], Loss: 0.06545255505479872\n",
            "Epoch [1/1], Batch [320/938], Loss: 0.07256839256733656\n",
            "Epoch [1/1], Batch [330/938], Loss: 0.1039379958063364\n",
            "Epoch [1/1], Batch [340/938], Loss: 0.0752080608624965\n",
            "Epoch [1/1], Batch [350/938], Loss: 0.07560584862949327\n",
            "Epoch [1/1], Batch [360/938], Loss: 0.07137759225443005\n",
            "Epoch [1/1], Batch [370/938], Loss: 0.09103042669594288\n",
            "Epoch [1/1], Batch [380/938], Loss: 0.09730095444247126\n",
            "Epoch [1/1], Batch [390/938], Loss: 0.10891502401791513\n",
            "Epoch [1/1], Batch [400/938], Loss: 0.060909388959407805\n",
            "Epoch [1/1], Batch [410/938], Loss: 0.08730768375098705\n",
            "Epoch [1/1], Batch [420/938], Loss: 0.16207509860396385\n",
            "Epoch [1/1], Batch [430/938], Loss: 0.07666518278419972\n",
            "Epoch [1/1], Batch [440/938], Loss: 0.08414497030898929\n",
            "Epoch [1/1], Batch [450/938], Loss: 0.12959501575678586\n",
            "Epoch [1/1], Batch [460/938], Loss: 0.09027983024716377\n",
            "Epoch [1/1], Batch [470/938], Loss: 0.08463834915310145\n",
            "Epoch [1/1], Batch [480/938], Loss: 0.07343554049730301\n",
            "Epoch [1/1], Batch [490/938], Loss: 0.08787447363138198\n",
            "Epoch [1/1], Batch [500/938], Loss: 0.09865887686610222\n",
            "Epoch [1/1], Batch [510/938], Loss: 0.09984588450752199\n",
            "Epoch [1/1], Batch [520/938], Loss: 0.07063579412642866\n",
            "Epoch [1/1], Batch [530/938], Loss: 0.07055980870500207\n",
            "Epoch [1/1], Batch [540/938], Loss: 0.05113987661898136\n",
            "Epoch [1/1], Batch [550/938], Loss: 0.10496079521253705\n",
            "Epoch [1/1], Batch [560/938], Loss: 0.08228362160734833\n",
            "Epoch [1/1], Batch [570/938], Loss: 0.09140214156359434\n",
            "Epoch [1/1], Batch [580/938], Loss: 0.07541165454313159\n",
            "Epoch [1/1], Batch [590/938], Loss: 0.06945881396532058\n",
            "Epoch [1/1], Batch [600/938], Loss: 0.043308436218649146\n",
            "Epoch [1/1], Batch [610/938], Loss: 0.06898971442133188\n",
            "Epoch [1/1], Batch [620/938], Loss: 0.09363803816959262\n",
            "Epoch [1/1], Batch [630/938], Loss: 0.08641052544116974\n",
            "Epoch [1/1], Batch [640/938], Loss: 0.07884089965373278\n",
            "Epoch [1/1], Batch [650/938], Loss: 0.11905149035155774\n",
            "Epoch [1/1], Batch [660/938], Loss: 0.0733281945809722\n",
            "Epoch [1/1], Batch [670/938], Loss: 0.10275460220873356\n",
            "Epoch [1/1], Batch [680/938], Loss: 0.06441140864044428\n",
            "Epoch [1/1], Batch [690/938], Loss: 0.06632299758493901\n",
            "Epoch [1/1], Batch [700/938], Loss: 0.07494565236265771\n",
            "Epoch [1/1], Batch [710/938], Loss: 0.062069753929972646\n",
            "Epoch [1/1], Batch [720/938], Loss: 0.07356154322624206\n",
            "Epoch [1/1], Batch [730/938], Loss: 0.10349062299355864\n",
            "Epoch [1/1], Batch [740/938], Loss: 0.06411011908203364\n",
            "Epoch [1/1], Batch [750/938], Loss: 0.08059987043961883\n",
            "Epoch [1/1], Batch [760/938], Loss: 0.07628503027372062\n",
            "Epoch [1/1], Batch [770/938], Loss: 0.09667962957173586\n",
            "Epoch [1/1], Batch [780/938], Loss: 0.12956643234938384\n",
            "Epoch [1/1], Batch [790/938], Loss: 0.06400614064186812\n",
            "Epoch [1/1], Batch [800/938], Loss: 0.07231475543230773\n",
            "Epoch [1/1], Batch [810/938], Loss: 0.10428600097075105\n",
            "Epoch [1/1], Batch [820/938], Loss: 0.09931385517120361\n",
            "Epoch [1/1], Batch [830/938], Loss: 0.1204970427788794\n",
            "Epoch [1/1], Batch [840/938], Loss: 0.09213929157704115\n",
            "Epoch [1/1], Batch [850/938], Loss: 0.05214129546657205\n",
            "Epoch [1/1], Batch [860/938], Loss: 0.05379011984914541\n",
            "Epoch [1/1], Batch [870/938], Loss: 0.04586376417428255\n",
            "Epoch [1/1], Batch [880/938], Loss: 0.06635484723374248\n",
            "Epoch [1/1], Batch [890/938], Loss: 0.06968541163951159\n",
            "Epoch [1/1], Batch [900/938], Loss: 0.03901635725051165\n",
            "Epoch [1/1], Batch [910/938], Loss: 0.06712420098483562\n",
            "Epoch [1/1], Batch [920/938], Loss: 0.04420827646681573\n",
            "Epoch [1/1], Batch [930/938], Loss: 0.046849555382505056\n"
          ]
        }
      ]
    },
    {
      "cell_type": "code",
      "source": [
        "pred = model.predict(x_test[10][None])"
      ],
      "metadata": {
        "colab": {
          "base_uri": "https://localhost:8080/"
        },
        "id": "dqaGcxN68RtY",
        "outputId": "00fa4954-1b96-4cbc-97fb-578ebdd5cde9"
      },
      "execution_count": 21,
      "outputs": [
        {
          "output_type": "stream",
          "name": "stdout",
          "text": [
            "\u001b[1m1/1\u001b[0m \u001b[32m━━━━━━━━━━━━━━━━━━━━\u001b[0m\u001b[37m\u001b[0m \u001b[1m0s\u001b[0m 19ms/step\n"
          ]
        }
      ]
    },
    {
      "cell_type": "code",
      "source": [
        "np.argmax(pred)"
      ],
      "metadata": {
        "colab": {
          "base_uri": "https://localhost:8080/"
        },
        "id": "p8o0jW8h9Q4g",
        "outputId": "92eff911-16f2-413d-c01f-8543177bc856"
      },
      "execution_count": 22,
      "outputs": [
        {
          "output_type": "execute_result",
          "data": {
            "text/plain": [
              "0"
            ]
          },
          "metadata": {},
          "execution_count": 22
        }
      ]
    },
    {
      "cell_type": "code",
      "source": [
        "import matplotlib.pyplot as plt"
      ],
      "metadata": {
        "id": "lJzFH0vm9ACY"
      },
      "execution_count": 16,
      "outputs": []
    },
    {
      "cell_type": "code",
      "source": [
        "plt.imshow(x_test[10])"
      ],
      "metadata": {
        "colab": {
          "base_uri": "https://localhost:8080/",
          "height": 447
        },
        "id": "eeTxv2h29HdI",
        "outputId": "a5a5cd31-51ec-42bb-9cf8-198aa72c4476"
      },
      "execution_count": 20,
      "outputs": [
        {
          "output_type": "execute_result",
          "data": {
            "text/plain": [
              "<matplotlib.image.AxesImage at 0x7f505408e3b0>"
            ]
          },
          "metadata": {},
          "execution_count": 20
        },
        {
          "output_type": "display_data",
          "data": {
            "text/plain": [
              "<Figure size 640x480 with 1 Axes>"
            ],
            "image/png": "[encoded data removed]"
          },
          "metadata": {}
        }
      ]
    },
    {
      "cell_type": "code",
      "source": [
        "torch_pred = model(x_test[0][None])"
      ],
      "metadata": {
        "id": "yzb6XZ_k9kn3"
      },
      "execution_count": 30,
      "outputs": []
    },
    {
      "cell_type": "code",
      "source": [
        "type(pred)"
      ],
      "metadata": {
        "colab": {
          "base_uri": "https://localhost:8080/"
        },
        "id": "CG9ZyVgx-DwY",
        "outputId": "0bc47c9c-3e1a-436f-e033-4cbdb02666f5"
      },
      "execution_count": 29,
      "outputs": [
        {
          "output_type": "execute_result",
          "data": {
            "text/plain": [
              "numpy.ndarray"
            ]
          },
          "metadata": {},
          "execution_count": 29
        }
      ]
    },
    {
      "cell_type": "code",
      "source": [
        "print(torch_pred)"
      ],
      "metadata": {
        "colab": {
          "base_uri": "https://localhost:8080/"
        },
        "id": "DHSsiIxO-L3Y",
        "outputId": "159402d2-3caf-4570-c904-b17261e5b354"
      },
      "execution_count": 31,
      "outputs": [
        {
          "output_type": "stream",
          "name": "stdout",
          "text": [
            "tensor([[ -8.0053,  -7.6940,   1.4342,  -4.5444, -11.6261,  -8.1987, -26.0730,\n",
            "          19.9152,  -4.1142,  -2.6067]], device='cuda:0',\n",
            "       grad_fn=<AddBackward0>)\n"
          ]
        }
      ]
    },
    {
      "cell_type": "code",
      "source": [
        "print(torch_pred.argmax())"
      ],
      "metadata": {
        "colab": {
          "base_uri": "https://localhost:8080/"
        },
        "id": "pw5fg8tI-SG4",
        "outputId": "a1ea46da-f045-404f-ea5b-8e69d7261c36"
      },
      "execution_count": 32,
      "outputs": [
        {
          "output_type": "stream",
          "name": "stdout",
          "text": [
            "tensor(7, device='cuda:0')\n"
          ]
        }
      ]
    },
    {
      "cell_type": "code",
      "source": [
        "plt.imshow(x_test[0])"
      ],
      "metadata": {
        "colab": {
          "base_uri": "https://localhost:8080/",
          "height": 447
        },
        "id": "b3iugVnC-bJ4",
        "outputId": "3b967029-7038-4cc3-b7cf-4ab6ac44d59f"
      },
      "execution_count": 33,
      "outputs": [
        {
          "output_type": "execute_result",
          "data": {
            "text/plain": [
              "<matplotlib.image.AxesImage at 0x7f5054225780>"
            ]
          },
          "metadata": {},
          "execution_count": 33
        },
        {
          "output_type": "display_data",
          "data": {
            "text/plain": [
              "<Figure size 640x480 with 1 Axes>"
            ],
            "image/png": "[encoded data removed]"
          },
          "metadata": {}
        }
      ]
    },
    {
      "cell_type": "code",
      "source": [],
      "metadata": {
        "id": "MI_KCTXb-f6Z"
      },
      "execution_count": null,
      "outputs": []
    }
  ]
}