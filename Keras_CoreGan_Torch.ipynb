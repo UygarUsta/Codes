{
 "cells": [
  {
   "cell_type": "code",
   "execution_count": 1,
   "id": "41c9b3ab-b120-453b-a23e-7f1de969644f",
   "metadata": {},
   "outputs": [
    {
     "name": "stdout",
     "output_type": "stream",
     "text": [
      "Using PyTorch backend.\n"
     ]
    }
   ],
   "source": [
    "import os\n",
    "\n",
    "# This guide can only be run with the torch backend.\n",
    "os.environ[\"KERAS_BACKEND\"] = \"torch\"\n",
    "\n",
    "import torch\n",
    "import keras_core as keras\n",
    "from keras_core import layers\n",
    "import numpy as np"
   ]
  },
  {
   "cell_type": "code",
   "execution_count": 5,
   "id": "9673b7f3-7ec2-4ca6-9fe8-a3069931fef1",
   "metadata": {},
   "outputs": [],
   "source": [
    "discriminator = keras.Sequential([\n",
    "keras.Input(shape=(28,28,1)),\n",
    "layers.Conv2D(64,(3,3),strides=(2,2),padding=\"same\"),\n",
    "layers.LeakyReLU(negative_slope=0.2),\n",
    "layers.Conv2D(128,(3,3),strides=(2,2),padding=\"same\"),\n",
    "layers.LeakyReLU(negative_slope=0.2),  \n",
    "layers.GlobalMaxPooling2D(),\n",
    "layers.Dense(1)]\n",
    "    ,name=\"discriminator\")"
   ]
  },
  {
   "cell_type": "code",
   "execution_count": 8,
   "id": "5ca8c02d-80ac-4798-a8c7-040496e44dfe",
   "metadata": {},
   "outputs": [],
   "source": [
    "latent_dim = 128\n",
    "generator = keras.Sequential([\n",
    "keras.Input(shape=(latent_dim,)),\n",
    "layers.Dense((7*7*128)),\n",
    "layers.LeakyReLU(negative_slope=0.2),\n",
    "layers.Reshape((7,7,128)),\n",
    "layers.Conv2DTranspose(128,(4,4),strides=(2,2),padding=\"same\"),\n",
    "layers.LeakyReLU(negative_slope=0.2),\n",
    "layers.Conv2DTranspose(128,(4,4),strides=(2,2),padding=\"same\"),\n",
    "layers.LeakyReLU(negative_slope=0.2),  \n",
    "layers.Conv2D(1,(7,7),padding=\"same\",activation=\"sigmoid\"),\n",
    "],name=\"generator\")"
   ]
  },
  {
   "cell_type": "code",
   "execution_count": 25,
   "id": "3e5cb73c-e5ff-4b65-95a2-f21fe7f704ec",
   "metadata": {},
   "outputs": [],
   "source": [
    "class GAN(keras.Model):\n",
    "    def __init__(self, discriminator, generator, latent_dim):\n",
    "        super().__init__()\n",
    "        self.discriminator = discriminator\n",
    "        self.generator = generator\n",
    "        self.latent_dim = latent_dim\n",
    "        self.d_loss_tracker = keras.metrics.Mean(name=\"d_loss\")\n",
    "        self.g_loss_tracker = keras.metrics.Mean(name=\"g_loss\")\n",
    "        self.seed_generator = keras.random.SeedGenerator(1337)\n",
    "        self.built = True\n",
    "\n",
    "    @property\n",
    "    def metrics(self):\n",
    "        return [self.d_loss_tracker, self.g_loss_tracker]\n",
    "\n",
    "    def compile(self, d_optimizer, g_optimizer, loss_fn):\n",
    "        super().compile()\n",
    "        self.d_optimizer = d_optimizer\n",
    "        self.g_optimizer = g_optimizer\n",
    "        self.loss_fn = loss_fn\n",
    "\n",
    "    def train_step(self, real_images):\n",
    "        if isinstance(real_images, tuple):\n",
    "            real_images = real_images[0]\n",
    "        # Sample random points in the latent space\n",
    "        batch_size = real_images.shape[0]\n",
    "        random_latent_vectors = keras.random.normal(\n",
    "            shape=(batch_size, self.latent_dim), seed=self.seed_generator\n",
    "        )\n",
    "        random_latent_vectors = random_latent_vectors.cuda()\n",
    "\n",
    "        # Decode them to fake images\n",
    "        generated_images = self.generator(random_latent_vectors)\n",
    "\n",
    "        # Combine them with real images\n",
    "        real_images = torch.tensor(real_images).cuda()\n",
    "        \n",
    "        combined_images = torch.concat([generated_images,real_images],axis=0).cuda()\n",
    "        # Assemble labels discriminating real from fake images\n",
    "        labels = torch.concat([torch.ones((batch_size,1)),torch.zeros((batch_size,1))],axis=0).cuda()\n",
    "        # Add random noise to the labels - important trick!\n",
    "        labels += 0.05 * keras.random.uniform(labels.shape, seed=self.seed_generator)\n",
    "        labels = labels.cuda()\n",
    "        # Train the discriminator\n",
    "        self.zero_grad()\n",
    "        predictions = self.discriminator(combined_images)\n",
    "        d_loss = self.loss_fn(labels,predictions)\n",
    "        d_loss.backward()\n",
    "        \n",
    "        grads = [v.value.grad for v in self.discriminator.trainable_weights]\n",
    "        with torch.no_grad():\n",
    "            self.d_optimizer.apply(grads, self.discriminator.trainable_weights)\n",
    "\n",
    "        # Sample random points in the latent space\n",
    "        random_latent_vectors = keras.random.normal(\n",
    "            shape=(batch_size, self.latent_dim), seed=self.seed_generator\n",
    "        )\n",
    "        random_latent_vectors = random_latent_vectors.cuda()\n",
    "\n",
    "        # Assemble labels that say \"all real images\"\n",
    "        misleading_labels = torch.zeros((batch_size,1)).cuda()\n",
    "\n",
    "        # Train the generator (note that we should *not* update the weights\n",
    "        # of the discriminator)!\n",
    "        self.zero_grad()\n",
    "        predictions = self.discriminator(self.generator(random_latent_vectors))\n",
    "        g_loss = self.loss_fn(misleading_labels,predictions)\n",
    "        grads = g_loss.backward()\n",
    "        grads = [v.value.grad for v in self.generator.trainable_weights]\n",
    "        with torch.no_grad():\n",
    "            self.g_optimizer.apply(grads,self.generator.trainable_weights)\n",
    "\n",
    "        # Update metrics and return their value.\n",
    "        self.d_loss_tracker.update_state(d_loss)\n",
    "        self.g_loss_tracker.update_state(g_loss)\n",
    "        return {\n",
    "            \"d_loss\": self.d_loss_tracker.result(),\n",
    "            \"g_loss\": self.g_loss_tracker.result(),\n",
    "        }"
   ]
  },
  {
   "cell_type": "code",
   "execution_count": 39,
   "id": "b4f239d1-6e56-4f62-ba84-67d4df5b0577",
   "metadata": {},
   "outputs": [
    {
     "name": "stdout",
     "output_type": "stream",
     "text": [
      "Epoch 1/10\n",
      "\u001b[1m1094/1094\u001b[0m \u001b[32m━━━━━━━━━━━━━━━━━━━━\u001b[0m\u001b[37m\u001b[0m \u001b[1m34s\u001b[0m 31ms/step - d_loss: 0.2982 - g_loss: 2.1764\n",
      "Epoch 2/10\n",
      "\u001b[1m1094/1094\u001b[0m \u001b[32m━━━━━━━━━━━━━━━━━━━━\u001b[0m\u001b[37m\u001b[0m \u001b[1m34s\u001b[0m 31ms/step - d_loss: 0.5005 - g_loss: 1.5703\n",
      "Epoch 3/10\n",
      "\u001b[1m1094/1094\u001b[0m \u001b[32m━━━━━━━━━━━━━━━━━━━━\u001b[0m\u001b[37m\u001b[0m \u001b[1m34s\u001b[0m 31ms/step - d_loss: 0.6365 - g_loss: 0.9634\n",
      "Epoch 4/10\n",
      "\u001b[1m1094/1094\u001b[0m \u001b[32m━━━━━━━━━━━━━━━━━━━━\u001b[0m\u001b[37m\u001b[0m \u001b[1m34s\u001b[0m 31ms/step - d_loss: 0.6220 - g_loss: 0.9505\n",
      "Epoch 5/10\n",
      "\u001b[1m1094/1094\u001b[0m \u001b[32m━━━━━━━━━━━━━━━━━━━━\u001b[0m\u001b[37m\u001b[0m \u001b[1m34s\u001b[0m 31ms/step - d_loss: 0.5950 - g_loss: 1.0398\n",
      "Epoch 6/10\n",
      "\u001b[1m1094/1094\u001b[0m \u001b[32m━━━━━━━━━━━━━━━━━━━━\u001b[0m\u001b[37m\u001b[0m \u001b[1m34s\u001b[0m 31ms/step - d_loss: 0.5871 - g_loss: 1.0317\n",
      "Epoch 7/10\n",
      "\u001b[1m1094/1094\u001b[0m \u001b[32m━━━━━━━━━━━━━━━━━━━━\u001b[0m\u001b[37m\u001b[0m \u001b[1m34s\u001b[0m 31ms/step - d_loss: 0.5867 - g_loss: 1.0316\n",
      "Epoch 8/10\n",
      "\u001b[1m1094/1094\u001b[0m \u001b[32m━━━━━━━━━━━━━━━━━━━━\u001b[0m\u001b[37m\u001b[0m \u001b[1m34s\u001b[0m 31ms/step - d_loss: 0.5806 - g_loss: 1.0302\n",
      "Epoch 9/10\n",
      "\u001b[1m1094/1094\u001b[0m \u001b[32m━━━━━━━━━━━━━━━━━━━━\u001b[0m\u001b[37m\u001b[0m \u001b[1m34s\u001b[0m 31ms/step - d_loss: 0.5728 - g_loss: 1.0497\n",
      "Epoch 10/10\n",
      "\u001b[1m1094/1094\u001b[0m \u001b[32m━━━━━━━━━━━━━━━━━━━━\u001b[0m\u001b[37m\u001b[0m \u001b[1m34s\u001b[0m 31ms/step - d_loss: 0.5766 - g_loss: 1.0640\n"
     ]
    },
    {
     "data": {
      "text/plain": [
       "<keras_core.src.callbacks.history.History at 0x7f0ac52b8520>"
      ]
     },
     "execution_count": 39,
     "metadata": {},
     "output_type": "execute_result"
    }
   ],
   "source": [
    "batch_size = 64\n",
    "(x_train, _), (x_test, _) = keras.datasets.mnist.load_data()\n",
    "all_digits = np.concatenate([x_train, x_test])\n",
    "all_digits = all_digits.astype(\"float32\") / 255.0\n",
    "all_digits = np.reshape(all_digits, (-1, 28, 28, 1))\n",
    "\n",
    "# Create a TensorDataset\n",
    "dataset = torch.utils.data.TensorDataset(\n",
    "    torch.from_numpy(all_digits), torch.from_numpy(all_digits)\n",
    ")\n",
    "# Create a DataLoader\n",
    "dataloader = torch.utils.data.DataLoader(dataset, batch_size=batch_size, shuffle=True)\n",
    "\n",
    "gan = GAN(discriminator=discriminator, generator=generator, latent_dim=latent_dim)\n",
    "gan.compile(\n",
    "    d_optimizer=keras.optimizers.Adam(learning_rate=0.0003),\n",
    "    g_optimizer=keras.optimizers.Adam(learning_rate=0.0003),\n",
    "    loss_fn=keras.losses.BinaryCrossentropy(from_logits=True),\n",
    ")\n",
    "\n",
    "gan.fit(dataloader, epochs=10)"
   ]
  },
  {
   "cell_type": "code",
   "execution_count": null,
   "id": "136e0d41-a688-4551-84a0-7f9e531eb33d",
   "metadata": {},
   "outputs": [],
   "source": []
  },
  {
   "cell_type": "code",
   "execution_count": 40,
   "id": "f0b585fc-57d7-4cd1-915a-496e6818c5c9",
   "metadata": {},
   "outputs": [],
   "source": [
    "random_latent_vectors_i = keras.random.normal(\n",
    "            shape=(batch_size, 128), seed=keras.random.SeedGenerator(1337)\n",
    ")\n",
    "random_latent_vectors_i = random_latent_vectors_i.cuda()\n",
    "pred = gan.generator(random_latent_vectors_i)"
   ]
  },
  {
   "cell_type": "code",
   "execution_count": 33,
   "id": "23d16d98-a317-4df6-8a7a-f82345794896",
   "metadata": {},
   "outputs": [],
   "source": [
    "import matplotlib.pyplot as plt"
   ]
  },
  {
   "cell_type": "code",
   "execution_count": 55,
   "id": "392b08c0-ce1e-4654-9449-2978ef7d29c9",
   "metadata": {
    "scrolled": true
   },
   "outputs": [],
   "source": [
    "pred_0 = pred[8]"
   ]
  },
  {
   "cell_type": "code",
   "execution_count": 56,
   "id": "bcd66593-8428-4a40-902c-ecb3b4defc01",
   "metadata": {},
   "outputs": [
    {
     "data": {
      "text/plain": [
       "<matplotlib.image.AxesImage at 0x7f0ac22033a0>"
      ]
     },
     "execution_count": 56,
     "metadata": {},
     "output_type": "execute_result"
    },
    {
     "data": {
      "image/png": "[encoded data removed]",
      "text/plain": [
       "<Figure size 640x480 with 1 Axes>"
      ]
     },
     "metadata": {},
     "output_type": "display_data"
    }
   ],
   "source": [
    "plt.imshow(pred_0.cpu().detach().numpy())"
   ]
  },
  {
   "cell_type": "code",
   "execution_count": 58,
   "id": "c68c9d06-503b-4cdf-98c6-6481688ff704",
   "metadata": {},
   "outputs": [],
   "source": [
    "import torch.nn as nn"
   ]
  },
  {
   "cell_type": "code",
   "execution_count": 59,
   "id": "c02beba9-13e8-48d4-9fae-12b745936ec6",
   "metadata": {},
   "outputs": [],
   "source": [
    "class MyModel(nn.Module):\n",
    "    def __init__(self):\n",
    "        super().__init__()\n",
    "        self.model = gan.generator\n",
    "\n",
    "    def forward(self, x):\n",
    "        return self.model(x)"
   ]
  },
  {
   "cell_type": "code",
   "execution_count": 60,
   "id": "d4934099-9857-48f1-a0b7-cb5fc3a76fb7",
   "metadata": {},
   "outputs": [],
   "source": [
    "torch_module = MyModel()"
   ]
  },
  {
   "cell_type": "code",
   "execution_count": 73,
   "id": "70ac7efe-2d80-4b4b-a2fc-41f3bc2ca8f2",
   "metadata": {},
   "outputs": [],
   "source": [
    "torch.save(torch_module.state_dict(),\"generator_torch.pt\")"
   ]
  },
  {
   "cell_type": "code",
   "execution_count": 74,
   "id": "e2173a10-c289-4c8d-b4e5-329e5153e3f0",
   "metadata": {},
   "outputs": [],
   "source": [
    "torch_module_state_dict = torch.load(\"generator_torch.pt\")"
   ]
  },
  {
   "cell_type": "code",
   "execution_count": 75,
   "id": "7483961b-839d-427c-9aca-166b32187c85",
   "metadata": {},
   "outputs": [],
   "source": [
    "new_module = MyModel()"
   ]
  },
  {
   "cell_type": "code",
   "execution_count": 76,
   "id": "b80b84a7-5ead-4083-98b3-d43c74d3dce1",
   "metadata": {},
   "outputs": [
    {
     "data": {
      "text/plain": [
       "<All keys matched successfully>"
      ]
     },
     "execution_count": 76,
     "metadata": {},
     "output_type": "execute_result"
    }
   ],
   "source": [
    "new_module.load_state_dict(torch_module_state_dict)"
   ]
  },
  {
   "cell_type": "code",
   "execution_count": 80,
   "id": "f27c8a22-f078-4fc2-8e1f-e43909b18ce5",
   "metadata": {},
   "outputs": [],
   "source": [
    "pred_loaded_model = new_module(random_latent_vectors_i)"
   ]
  },
  {
   "cell_type": "code",
   "execution_count": 81,
   "id": "3240e6f6-dccd-4e60-b4d5-927a5c9d2d23",
   "metadata": {},
   "outputs": [],
   "source": [
    "pred_loaded = pred_loaded_model[8]"
   ]
  },
  {
   "cell_type": "code",
   "execution_count": 82,
   "id": "1be052d2-c3f8-49e0-a937-be5583474e2b",
   "metadata": {},
   "outputs": [
    {
     "data": {
      "text/plain": [
       "<matplotlib.image.AxesImage at 0x7f0ac1b45460>"
      ]
     },
     "execution_count": 82,
     "metadata": {},
     "output_type": "execute_result"
    },
    {
     "data": {
      "image/png": "[encoded data removed]",
      "text/plain": [
       "<Figure size 640x480 with 1 Axes>"
      ]
     },
     "metadata": {},
     "output_type": "display_data"
    }
   ],
   "source": [
    "plt.imshow(pred_loaded.cpu().detach().numpy())"
   ]
  },
  {
   "cell_type": "code",
   "execution_count": null,
   "id": "2083af01-7ee2-47de-9d18-b7947f8ced18",
   "metadata": {},
   "outputs": [],
   "source": []
  }
 ],
 "metadata": {
  "kernelspec": {
   "display_name": "Python 3 (ipykernel)",
   "language": "python",
   "name": "python3"
  },
  "language_info": {
   "codemirror_mode": {
    "name": "ipython",
    "version": 3
   },
   "file_extension": ".py",
   "mimetype": "text/x-python",
   "name": "python",
   "nbconvert_exporter": "python",
   "pygments_lexer": "ipython3",
   "version": "3.9.17"
  }
 },
 "nbformat": 4,
 "nbformat_minor": 5
}
