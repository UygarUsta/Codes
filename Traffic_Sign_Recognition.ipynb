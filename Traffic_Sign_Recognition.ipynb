{
  "nbformat": 4,
  "nbformat_minor": 0,
  "metadata": {
    "colab": {
      "name": "Traffic Sign Recognition.ipynb",
      "provenance": [],
      "authorship_tag": "ABX9TyMf5eJEFhaZmJwI596SsluG",
      "include_colab_link": true
    },
    "kernelspec": {
      "name": "python3",
      "display_name": "Python 3"
    },
    "language_info": {
      "name": "python"
    },
    "accelerator": "GPU"
  },
  "cells": [
    {
      "cell_type": "markdown",
      "metadata": {
        "id": "view-in-github",
        "colab_type": "text"
      },
      "source": [
        "<a href=\"https://colab.research.google.com/github/UygarUsta/Codes/blob/main/Traffic_Sign_Recognition.ipynb\" target=\"_parent\"><img src=\"https://colab.research.google.com/assets/colab-badge.svg\" alt=\"Open In Colab\"/></a>"
      ]
    },
    {
      "cell_type": "code",
      "metadata": {
        "id": "D635mlBMhSxW"
      },
      "source": [
        "import os\n",
        "if not os.path.exists('GTSRB'):\n",
        "  !wget -qq https://sid.erda.dk/public/archives/daaeac0d7ce1152aea9b61d9f1e19370/GTSRB_Final_Training_Images.zip\n",
        "  !wget -qq https://sid.erda.dk/public/archives/daaeac0d7ce1152aea9b61d9f1e19370/GTSRB_Final_Test_Images.zip\n",
        "  !unzip -qq GTSRB_Final_Training_Images.zip\n",
        "  !unzip -qq GTSRB_Final_Test_Images.zip\n",
        "  !wget https://raw.githubusercontent.com/georgesung/traffic_sign_classification_german/master/signnames.csv\n",
        "  "
      ],
      "execution_count": 335,
      "outputs": []
    },
    {
      "cell_type": "code",
      "metadata": {
        "id": "_G7dUQtThv50"
      },
      "source": [
        "!rm GTSRB_Final_Training_Images.zip\n",
        "!rm GTSRB_Final_Test_Images.zip"
      ],
      "execution_count": null,
      "outputs": []
    },
    {
      "cell_type": "code",
      "metadata": {
        "id": "v_Sfhf0JiD_W"
      },
      "source": [
        "import cv2\n",
        "im = cv2.imread(\"/content/GTSRB/Final_Training/Images/7/00000_00020.ppm\")"
      ],
      "execution_count": 337,
      "outputs": []
    },
    {
      "cell_type": "code",
      "metadata": {
        "colab": {
          "base_uri": "https://localhost:8080/",
          "height": 66
        },
        "id": "5VbvSVVjincd",
        "outputId": "d949734e-5cf4-4fe9-a975-ed6657515411"
      },
      "source": [
        "from google.colab.patches import cv2_imshow\n",
        "cv2_imshow(im)"
      ],
      "execution_count": 338,
      "outputs": [
        {
          "output_type": "display_data",
          "data": {
            "image/png": "[encoded data removed]",
            "text/plain": [
              "<PIL.Image.Image image mode=RGB size=49x49 at 0x7F7A00C7B910>"
            ]
          },
          "metadata": {
            "tags": []
          }
        }
      ]
    },
    {
      "cell_type": "code",
      "metadata": {
        "id": "cWHqWbJSitEB"
      },
      "source": [
        "for i,x in enumerate(sorted(os.listdir(\"/content/GTSRB/Final_Training/Images\"))):\n",
        "  \n",
        "  name = os.path.join(\"/content/GTSRB/Final_Training/Images\",x)\n",
        "  new_name = os.path.join(\"/content/GTSRB/Final_Training/Images\",str(i))\n",
        "  os.rename(name,new_name)\n",
        "  \n"
      ],
      "execution_count": null,
      "outputs": []
    },
    {
      "cell_type": "code",
      "metadata": {
        "id": "n0txZWxujTac"
      },
      "source": [
        "import numpy as np\n",
        "from glob import glob\n",
        "import pandas as pd\n",
        "from torch import optim\n",
        "import torch\n",
        "from torch import nn \n",
        "from torchvision import transforms as T\n",
        "from torchvision import models\n",
        "import matplotlib.pyplot as plt\n",
        "from torch.utils.data import Dataset,DataLoader\n",
        "import PIL\n",
        "from PIL import Image"
      ],
      "execution_count": 340,
      "outputs": []
    },
    {
      "cell_type": "code",
      "metadata": {
        "id": "LIy5lwMaklwO"
      },
      "source": [
        "device = \"cuda\" if torch.cuda.is_available() else \"cpu\""
      ],
      "execution_count": 341,
      "outputs": []
    },
    {
      "cell_type": "code",
      "metadata": {
        "id": "15YHnaVzliHW"
      },
      "source": [
        "path = [ x for i in os.listdir(\"/content/GTSRB/Final_Training/Images/\") for x in glob(\"/content/GTSRB/Final_Training/Images/\"+i+\"/*.ppm\")]"
      ],
      "execution_count": 342,
      "outputs": []
    },
    {
      "cell_type": "code",
      "metadata": {
        "id": "8jKpB9xTmSJu"
      },
      "source": [
        "from random import shuffle,seed\n",
        "seed(42)\n",
        "shuffle(path)"
      ],
      "execution_count": 343,
      "outputs": []
    },
    {
      "cell_type": "code",
      "metadata": {
        "colab": {
          "base_uri": "https://localhost:8080/",
          "height": 35
        },
        "id": "lbPRacR3m8oQ",
        "outputId": "221ad295-7479-4b87-81a0-882b7a506fb0"
      },
      "source": [
        "path[0].split(\"/\")[-2]"
      ],
      "execution_count": 344,
      "outputs": [
        {
          "output_type": "execute_result",
          "data": {
            "application/vnd.google.colaboratory.intrinsic+json": {
              "type": "string"
            },
            "text/plain": [
              "'1'"
            ]
          },
          "metadata": {
            "tags": []
          },
          "execution_count": 344
        }
      ]
    },
    {
      "cell_type": "code",
      "metadata": {
        "id": "GsrjuP01pFEQ"
      },
      "source": [
        "train_path = path[:35000]\n",
        "val_path = path[35000:]"
      ],
      "execution_count": 345,
      "outputs": []
    },
    {
      "cell_type": "code",
      "metadata": {
        "id": "m4hcDWSrlbjV"
      },
      "source": [
        "class GTSRB(Dataset):\n",
        "    def __init__(self,im,transform=None):\n",
        "        \n",
        "        self.im = im\n",
        "        self.transform = transform\n",
        "    def __len__(self):\n",
        "        return len(self.im)\n",
        "    def __getitem__(self,ix):\n",
        "        im = cv2.imread(self.im[ix])[:,:,::-1]\n",
        "        if self.transform:\n",
        "          im = self.transform(im)\n",
        "        target = int(self.im[ix].split(\"/\")[-2])\n",
        "        \n",
        "        return im,torch.tensor(target).to(device)\n",
        "    def collate_fn(self,batch):\n",
        "        im,target = list(zip(*batch))\n",
        "        if self.transform:\n",
        "            im = [self.transform(img)[None].to(device) for img in im]\n",
        "            target = [torch.tensor(label).to(device) for label in target]\n",
        "            #im,target = [torch.cat(x).to(device) for x in [im,target]]\n",
        "        return im,target\n",
        "        \n",
        "        "
      ],
      "execution_count": 346,
      "outputs": []
    },
    {
      "cell_type": "code",
      "metadata": {
        "id": "tuaffGm0oFAI"
      },
      "source": [
        "trn_tfms = T.Compose([\n",
        "T.ToPILImage(),\n",
        "T.Resize(224),\n",
        "T.CenterCrop(224),\n",
        " T.ColorJitter(brightness=(0.8,1.2), # contrast=(0.8,1.2),\n",
        " saturation=(0.8,1.2),\n",
        " hue=0.25),\n",
        " T.RandomAffine(5, translate=(0.01,0.1)), \n",
        "T.ToTensor(),\n",
        "T.Normalize(mean=[0.485, 0.456, 0.406],std=[0.229, 0.224, 0.225])\n",
        "])\n",
        " "
      ],
      "execution_count": 347,
      "outputs": []
    },
    {
      "cell_type": "code",
      "metadata": {
        "id": "4tDYNlQgpady"
      },
      "source": [
        "val_tfms = T.Compose([\n",
        "                     T.ToPILImage(),\n",
        "                     T.Resize(224),\n",
        "                     T.CenterCrop(224),\n",
        "                     T.ToTensor(),\n",
        "                     T.Normalize(mean=[0.485, 0.456, 0.406],\n",
        "                                 std=[0.229, 0.224, 0.225]),\n",
        "])"
      ],
      "execution_count": 348,
      "outputs": []
    },
    {
      "cell_type": "code",
      "metadata": {
        "id": "3FqJW39PoKUR"
      },
      "source": [
        "train = GTSRB(train_path,transform = trn_tfms)"
      ],
      "execution_count": 349,
      "outputs": []
    },
    {
      "cell_type": "code",
      "metadata": {
        "id": "j9od2jOlpYmS"
      },
      "source": [
        "val = GTSRB(val_path,transform = val_tfms)"
      ],
      "execution_count": 350,
      "outputs": []
    },
    {
      "cell_type": "code",
      "metadata": {
        "id": "6WtGgjk8oZV-"
      },
      "source": [
        "train_dl = DataLoader(train,batch_size=32,shuffle = True)\n",
        "val_dl = DataLoader(val,batch_size=32,shuffle = False)"
      ],
      "execution_count": 351,
      "outputs": []
    },
    {
      "cell_type": "code",
      "metadata": {
        "id": "5toRF5vPpuCk"
      },
      "source": [
        "im,label = next(iter(train_dl))"
      ],
      "execution_count": 430,
      "outputs": []
    },
    {
      "cell_type": "code",
      "metadata": {
        "colab": {
          "base_uri": "https://localhost:8080/",
          "height": 323
        },
        "id": "0umVaXvcp1b6",
        "outputId": "c0e125a4-4dfb-426e-dfba-0178f815dd3d"
      },
      "source": [
        "plt.imshow(im[5].squeeze(0).cpu().permute(1,2,0).numpy())"
      ],
      "execution_count": 433,
      "outputs": [
        {
          "output_type": "stream",
          "text": [
            "Clipping input data to the valid range for imshow with RGB data ([0..1] for floats or [0..255] for integers).\n"
          ],
          "name": "stderr"
        },
        {
          "output_type": "execute_result",
          "data": {
            "text/plain": [
              "<matplotlib.image.AxesImage at 0x7f7905583f90>"
            ]
          },
          "metadata": {
            "tags": []
          },
          "execution_count": 433
        },
        {
          "output_type": "display_data",
          "data": {
            "image/png": "[encoded data removed]",
            "text/plain": [
              "<Figure size 432x288 with 1 Axes>"
            ]
          },
          "metadata": {
            "tags": [],
            "needs_background": "light"
          }
        }
      ]
    },
    {
      "cell_type": "code",
      "metadata": {
        "id": "yQxKrpt6vUQT"
      },
      "source": [
        "im,label = next(iter(val_dl))"
      ],
      "execution_count": 434,
      "outputs": []
    },
    {
      "cell_type": "code",
      "metadata": {
        "colab": {
          "base_uri": "https://localhost:8080/",
          "height": 323
        },
        "id": "wpwLx9EjwOgK",
        "outputId": "fd23f8f8-b91f-4a2e-e547-96c6a3093b71"
      },
      "source": [
        "plt.imshow(im[18].squeeze(0).cpu().permute(1,2,0).numpy())"
      ],
      "execution_count": 437,
      "outputs": [
        {
          "output_type": "stream",
          "text": [
            "Clipping input data to the valid range for imshow with RGB data ([0..1] for floats or [0..255] for integers).\n"
          ],
          "name": "stderr"
        },
        {
          "output_type": "execute_result",
          "data": {
            "text/plain": [
              "<matplotlib.image.AxesImage at 0x7f790540e810>"
            ]
          },
          "metadata": {
            "tags": []
          },
          "execution_count": 437
        },
        {
          "output_type": "display_data",
          "data": {
            "image/png": "[encoded data removed]",
            "text/plain": [
              "<Figure size 432x288 with 1 Axes>"
            ]
          },
          "metadata": {
            "tags": [],
            "needs_background": "light"
          }
        }
      ]
    },
    {
      "cell_type": "code",
      "metadata": {
        "id": "78bBOoEvwbeV"
      },
      "source": [
        "model = models.vgg16(pretrained = True)\n",
        "for param in model.parameters():\n",
        "\n",
        "  param.requires_grad = False"
      ],
      "execution_count": 359,
      "outputs": []
    },
    {
      "cell_type": "code",
      "metadata": {
        "id": "72MOCWLzw6C9"
      },
      "source": [
        "model.avgpool = nn.AdaptiveAvgPool2d(output_size=(1, 1))"
      ],
      "execution_count": 360,
      "outputs": []
    },
    {
      "cell_type": "code",
      "metadata": {
        "id": "1iUgyCIXw7w4"
      },
      "source": [
        "model.classifier = nn.Sequential(\n",
        "    nn.Flatten(),\n",
        "    nn.Linear(512,128),\n",
        "    nn.ReLU(),\n",
        "    nn.Dropout(0.2),\n",
        "    nn.Linear(128,43)\n",
        ")"
      ],
      "execution_count": 361,
      "outputs": []
    },
    {
      "cell_type": "code",
      "metadata": {
        "colab": {
          "base_uri": "https://localhost:8080/"
        },
        "id": "CE41FcxIxMsw",
        "outputId": "8f719599-e3d7-4228-96d0-746af3dbe625"
      },
      "source": [
        "model"
      ],
      "execution_count": 362,
      "outputs": [
        {
          "output_type": "execute_result",
          "data": {
            "text/plain": [
              "VGG(\n",
              "  (features): Sequential(\n",
              "    (0): Conv2d(3, 64, kernel_size=(3, 3), stride=(1, 1), padding=(1, 1))\n",
              "    (1): ReLU(inplace=True)\n",
              "    (2): Conv2d(64, 64, kernel_size=(3, 3), stride=(1, 1), padding=(1, 1))\n",
              "    (3): ReLU(inplace=True)\n",
              "    (4): MaxPool2d(kernel_size=2, stride=2, padding=0, dilation=1, ceil_mode=False)\n",
              "    (5): Conv2d(64, 128, kernel_size=(3, 3), stride=(1, 1), padding=(1, 1))\n",
              "    (6): ReLU(inplace=True)\n",
              "    (7): Conv2d(128, 128, kernel_size=(3, 3), stride=(1, 1), padding=(1, 1))\n",
              "    (8): ReLU(inplace=True)\n",
              "    (9): MaxPool2d(kernel_size=2, stride=2, padding=0, dilation=1, ceil_mode=False)\n",
              "    (10): Conv2d(128, 256, kernel_size=(3, 3), stride=(1, 1), padding=(1, 1))\n",
              "    (11): ReLU(inplace=True)\n",
              "    (12): Conv2d(256, 256, kernel_size=(3, 3), stride=(1, 1), padding=(1, 1))\n",
              "    (13): ReLU(inplace=True)\n",
              "    (14): Conv2d(256, 256, kernel_size=(3, 3), stride=(1, 1), padding=(1, 1))\n",
              "    (15): ReLU(inplace=True)\n",
              "    (16): MaxPool2d(kernel_size=2, stride=2, padding=0, dilation=1, ceil_mode=False)\n",
              "    (17): Conv2d(256, 512, kernel_size=(3, 3), stride=(1, 1), padding=(1, 1))\n",
              "    (18): ReLU(inplace=True)\n",
              "    (19): Conv2d(512, 512, kernel_size=(3, 3), stride=(1, 1), padding=(1, 1))\n",
              "    (20): ReLU(inplace=True)\n",
              "    (21): Conv2d(512, 512, kernel_size=(3, 3), stride=(1, 1), padding=(1, 1))\n",
              "    (22): ReLU(inplace=True)\n",
              "    (23): MaxPool2d(kernel_size=2, stride=2, padding=0, dilation=1, ceil_mode=False)\n",
              "    (24): Conv2d(512, 512, kernel_size=(3, 3), stride=(1, 1), padding=(1, 1))\n",
              "    (25): ReLU(inplace=True)\n",
              "    (26): Conv2d(512, 512, kernel_size=(3, 3), stride=(1, 1), padding=(1, 1))\n",
              "    (27): ReLU(inplace=True)\n",
              "    (28): Conv2d(512, 512, kernel_size=(3, 3), stride=(1, 1), padding=(1, 1))\n",
              "    (29): ReLU(inplace=True)\n",
              "    (30): MaxPool2d(kernel_size=2, stride=2, padding=0, dilation=1, ceil_mode=False)\n",
              "  )\n",
              "  (avgpool): AdaptiveAvgPool2d(output_size=(1, 1))\n",
              "  (classifier): Sequential(\n",
              "    (0): Flatten(start_dim=1, end_dim=-1)\n",
              "    (1): Linear(in_features=512, out_features=128, bias=True)\n",
              "    (2): ReLU()\n",
              "    (3): Dropout(p=0.2, inplace=False)\n",
              "    (4): Linear(in_features=128, out_features=43, bias=True)\n",
              "  )\n",
              ")"
            ]
          },
          "metadata": {
            "tags": []
          },
          "execution_count": 362
        }
      ]
    },
    {
      "cell_type": "code",
      "metadata": {
        "id": "E5-Azf1ix8Om"
      },
      "source": [
        "\n",
        "optimizer = optim.Adam(model.parameters(),lr = 1e-4)\n",
        "loss_fn = nn.CrossEntropyLoss()"
      ],
      "execution_count": 363,
      "outputs": []
    },
    {
      "cell_type": "code",
      "metadata": {
        "id": "3lqTZ8qHzqNG"
      },
      "source": [
        "model = model.to(device)"
      ],
      "execution_count": 364,
      "outputs": []
    },
    {
      "cell_type": "code",
      "metadata": {
        "id": "nDAHg5VZ9C9S"
      },
      "source": [
        "from tqdm import tqdm "
      ],
      "execution_count": 367,
      "outputs": []
    },
    {
      "cell_type": "code",
      "metadata": {
        "colab": {
          "base_uri": "https://localhost:8080/"
        },
        "id": "PsUcKO8GxNiA",
        "outputId": "691fa3c1-1171-441a-df17-b3aaffe6ead4"
      },
      "source": [
        "train_losses,valid_losses= [],[]\n",
        "n_epochs = 5\n",
        "\n",
        "for epochs in tqdm(range(n_epochs)):\n",
        "\n",
        "  train_loss = 0.0\n",
        "  val_loss = 0.0\n",
        "  model.train()\n",
        "  for data,target in train_dl:\n",
        "    data = data.to(device)\n",
        "    target = target.to(device)\n",
        "    \n",
        "    optimizer.zero_grad()\n",
        "    prediction = model(data)\n",
        "    loss = loss_fn(prediction,target)\n",
        "    loss.backward()\n",
        "    optimizer.step()\n",
        "    train_loss += loss.item() * data.size(0)\n",
        "    \n",
        "  model.eval()\n",
        "  for data,target in val_dl:\n",
        "    data = data.to(device)\n",
        "    target = target.to(device)\n",
        "\n",
        "    prediction = model(data)\n",
        "    loss = loss_fn(prediction,target)\n",
        "    val_loss += loss.item() * data.size(0)\n",
        "    \n",
        "  train_loss = train_loss / len(train_dl.sampler)\n",
        "  val_loss = val_loss / len(val_dl.sampler)\n",
        "  train_losses.append(train_loss)\n",
        "  valid_losses.append(val_loss)\n",
        "  print(\"Epoch : {} \\tTraining Loss: {:.6f} \\tValidation Loss {:.6f}\".format(epochs,train_loss,val_loss))"
      ],
      "execution_count": 369,
      "outputs": [
        {
          "output_type": "stream",
          "text": [
            "\n",
            "\n",
            "  0%|          | 0/5 [00:00<?, ?it/s]\u001b[A\u001b[A\n",
            "\n",
            " 20%|██        | 1/5 [06:58<27:52, 418.01s/it]\u001b[A\u001b[A"
          ],
          "name": "stderr"
        },
        {
          "output_type": "stream",
          "text": [
            "Epoch : 0 \tTraining Loss: 2.076018 \tValidation Loss 1.747086\n"
          ],
          "name": "stdout"
        },
        {
          "output_type": "stream",
          "text": [
            "\n",
            "\n",
            " 40%|████      | 2/5 [13:57<20:55, 418.48s/it]\u001b[A\u001b[A"
          ],
          "name": "stderr"
        },
        {
          "output_type": "stream",
          "text": [
            "Epoch : 1 \tTraining Loss: 1.751336 \tValidation Loss 1.503623\n"
          ],
          "name": "stdout"
        },
        {
          "output_type": "stream",
          "text": [
            "\n",
            "\n",
            " 60%|██████    | 3/5 [20:55<13:56, 418.32s/it]\u001b[A\u001b[A"
          ],
          "name": "stderr"
        },
        {
          "output_type": "stream",
          "text": [
            "Epoch : 2 \tTraining Loss: 1.554710 \tValidation Loss 1.334268\n"
          ],
          "name": "stdout"
        },
        {
          "output_type": "stream",
          "text": [
            "\n",
            "\n",
            " 80%|████████  | 4/5 [27:53<06:58, 418.32s/it]\u001b[A\u001b[A"
          ],
          "name": "stderr"
        },
        {
          "output_type": "stream",
          "text": [
            "Epoch : 3 \tTraining Loss: 1.414423 \tValidation Loss 1.219444\n"
          ],
          "name": "stdout"
        },
        {
          "output_type": "stream",
          "text": [
            "\n",
            "\n",
            "100%|██████████| 5/5 [34:51<00:00, 418.37s/it]"
          ],
          "name": "stderr"
        },
        {
          "output_type": "stream",
          "text": [
            "Epoch : 4 \tTraining Loss: 1.299564 \tValidation Loss 1.116755\n"
          ],
          "name": "stdout"
        },
        {
          "output_type": "stream",
          "text": [
            "\n"
          ],
          "name": "stderr"
        }
      ]
    },
    {
      "cell_type": "code",
      "metadata": {
        "id": "heNaWpnRIlba"
      },
      "source": [
        "sign = pd.read_csv(\"./signnames.csv\")"
      ],
      "execution_count": 420,
      "outputs": []
    },
    {
      "cell_type": "code",
      "metadata": {
        "colab": {
          "base_uri": "https://localhost:8080/",
          "height": 284
        },
        "id": "B2e5pUUc9Pjv",
        "outputId": "d4726cc0-95cf-4f89-cca0-6cfc626bf7e9"
      },
      "source": [
        "im_ = cv2.imread(\"/content/GTSRB/Final_Test/Images/00030.ppm\")[:,:,::-1]\n",
        "im = val.transform(im_)\n",
        "plt.imshow(im_)"
      ],
      "execution_count": 438,
      "outputs": [
        {
          "output_type": "execute_result",
          "data": {
            "text/plain": [
              "<matplotlib.image.AxesImage at 0x7f79053ca310>"
            ]
          },
          "metadata": {
            "tags": []
          },
          "execution_count": 438
        },
        {
          "output_type": "display_data",
          "data": {
            "image/png": "[encoded data removed]",
            "text/plain": [
              "<Figure size 432x288 with 1 Axes>"
            ]
          },
          "metadata": {
            "tags": [],
            "needs_background": "light"
          }
        }
      ]
    },
    {
      "cell_type": "code",
      "metadata": {
        "colab": {
          "base_uri": "https://localhost:8080/"
        },
        "id": "ckph_6q0GCw8",
        "outputId": "0bde27e3-008b-4648-96a0-833df81b420b"
      },
      "source": [
        "with torch.no_grad():\n",
        "        output = model(im[None].to(device))\n",
        "        output = torch.argmax(output,1)\n",
        "        print(f\"Predicted is {sign.SignName[output.cpu().numpy()[0]]}\")"
      ],
      "execution_count": 439,
      "outputs": [
        {
          "output_type": "stream",
          "text": [
            "Predicted is Speed limit (80km/h)\n"
          ],
          "name": "stdout"
        }
      ]
    },
    {
      "cell_type": "code",
      "metadata": {
        "id": "ifJWVqqKG22U"
      },
      "source": [
        ""
      ],
      "execution_count": null,
      "outputs": []
    }
  ]
}